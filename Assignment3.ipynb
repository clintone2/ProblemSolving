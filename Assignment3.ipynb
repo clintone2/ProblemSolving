{
 "cells": [
  {
   "cell_type": "code",
   "execution_count": 1,
   "id": "23438a3d-6842-4fc0-b741-4c61ab7534b0",
   "metadata": {},
   "outputs": [],
   "source": [
    "import numpy as np\n",
    "import matplotlib.pyplot as plt\n",
    "from scipy import stats\n",
    "import seaborn as sns\n",
    "%matplotlib qt"
   ]
  },
  {
   "cell_type": "code",
   "execution_count": 8,
   "id": "b54a45a4-410f-4403-a900-35be0f918290",
   "metadata": {},
   "outputs": [
    {
     "name": "stdout",
     "output_type": "stream",
     "text": [
      "Pr(Final number = 0)= 0.003\n",
      "Pr(Final number at least 2)= 0.9969999999999946\n"
     ]
    }
   ],
   "source": [
    "def difference(draw):\n",
    "    if draw[0] > draw[1]:\n",
    "        newNumber = draw[0] - draw[1]\n",
    "    else:\n",
    "        newNumber = draw[1] - draw[0]\n",
    "    return newNumber\n",
    "\n",
    "rng = np.random.default_rng()\n",
    "n = 2024\n",
    "finalNum = []\n",
    "size = 10000\n",
    "\n",
    "for i in range(size):\n",
    "    hat = np.arange(1, n+1)\n",
    "    for i in range(n-1):\n",
    "        indexes = rng.choice(len(hat),size = 2,replace = False)\n",
    "        draw = [hat[indexes[0]], hat[indexes[1]]]\n",
    "        new_hat = np.delete(hat, indexes)\n",
    "        hat = new_hat\n",
    "        newNumber = difference(draw)\n",
    "        new_hat = np.append(hat, newNumber)\n",
    "        hat = new_hat\n",
    "    finalNum.append(hat[0])\n",
    "#print(finalNum)\n",
    "\n",
    "Min = 0\n",
    "Max = max(finalNum) + 1\n",
    "bins = np.arange(Min, Max+1)-0.5 #these are the intervals that are plotted on the historgram: centred on integers\n",
    "prob, ax = plt.subplots(1,1)\n",
    "prob, a1, a2 = plt.hist(finalNum, bins=bins, density=True, color='purple')\n",
    "\n",
    "ax.set_xlim(Min-1, Max) #this is how far along the x axis is\n",
    "ax.set_xticks(np.arange(Min-1, Max+1)) #these are the marks on the x axis\n",
    "plt.xlabel('Final number')\n",
    "plt.ylabel('Probability')\n",
    "plt.show()\n",
    "\n",
    "print(f'Pr(Final number = 0)= {prob[0]}')\n",
    "print(f'Pr(Final number at least 2)= {sum(prob[2:])}')"
    "MU = np.mean(finalNum)"
    "SIG = np.sqrt(np.var(finalNum, ddof=1))"
   ]
  },
  {
   "cell_type": "code",
   "execution_count": 11,
   "id": "8204302c-9335-4c93-b4c1-4d7e1e460667",
   "metadata": {},
   "outputs": [],
   "source": [
    "#0.66 and 0.34 (n=3)\n",
    "#0.6581 and 0.3419 (n=3)\n",
    "\n"
   ]
  },
  {
   "cell_type": "code",
   "execution_count": null,
   "id": "57474982-c57e-40ae-9e1d-dfd93fdaa650",
   "metadata": {},
   "outputs": [],
   "source": []
  },
  {
   "cell_type": "code",
   "execution_count": null,
   "id": "6c6ae828-b160-4060-9e93-7af95507c53e",
   "metadata": {},
   "outputs": [],
   "source": []
  },
  {
   "cell_type": "code",
   "execution_count": null,
   "id": "575623f9-8d91-423e-afe6-ccf0487554c0",
   "metadata": {},
   "outputs": [],
   "source": []
  },
  {
   "cell_type": "code",
   "execution_count": null,
   "id": "b3918753-2293-4b94-ac1c-02487ad92e1f",
   "metadata": {},
   "outputs": [],
   "source": []
  },
  {
   "cell_type": "code",
   "execution_count": null,
   "id": "7bb4c093-909b-4e29-ade6-10d130c94357",
   "metadata": {},
   "outputs": [],
   "source": []
  },
  {
   "cell_type": "code",
   "execution_count": null,
   "id": "eb9f73e0-1bca-46be-a0a9-5001cbaf0462",
   "metadata": {},
   "outputs": [],
   "source": []
  },
  {
   "cell_type": "code",
   "execution_count": null,
   "id": "efbedef7-19b0-431f-8415-89d099babb27",
   "metadata": {},
   "outputs": [],
   "source": []
  }
 ],
 "metadata": {
  "kernelspec": {
   "display_name": "Python 3 (ipykernel)",
   "language": "python",
   "name": "python3"
  },
  "language_info": {
   "codemirror_mode": {
    "name": "ipython",
    "version": 3
   },
   "file_extension": ".py",
   "mimetype": "text/x-python",
   "name": "python",
   "nbconvert_exporter": "python",
   "pygments_lexer": "ipython3",
   "version": "3.9.1"
  }
 },
 "nbformat": 4,
 "nbformat_minor": 5
}
