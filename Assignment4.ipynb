{
 "cells": [
  {
   "cell_type": "code",
   "execution_count": 1,
   "id": "47406fec-679f-4b70-a0f2-0502ddb8f433",
   "metadata": {},
   "outputs": [],
   "source": [
    "import numpy as np\n",
    "import matplotlib.pyplot as plt\n",
    "import sympy as sp\n",
    "import scipy.linalg as LA"
   ]
  },
  {
   "cell_type": "code",
   "execution_count": 18,
   "id": "065b7aed-652c-408a-8e13-b88ca9d76d5b",
   "metadata": {},
   "outputs": [
    {
     "name": "stdout",
     "output_type": "stream",
     "text": [
      "687596\n"
     ]
    }
   ],
   "source": [
    "rng = np.random.default_rng()\n",
    "trial = int(10e5)\n",
    "total = 0\n",
    "n = 5\n",
    "for i in range (trial):\n",
    "    step = 1\n",
    "    path = [step]\n",
    "    finish = False \n",
    "    while finish == False:\n",
    "        nextStep = rng.integers(1, 3)\n",
    "        step = step + nextStep\n",
    "        path.append(step)\n",
    "        if step == n:\n",
    "            total = total + 1\n",
    "        if step >= 25:\n",
    "            finish = True\n",
    "print(total)    "
   ]
  },
  {
   "cell_type": "code",
   "execution_count": 9,
   "id": "e95434e0-7a34-4cce-be2f-d84c48fe155b",
   "metadata": {},
   "outputs": [
    {
     "name": "stdout",
     "output_type": "stream",
     "text": [
      "[1.         0.5        0.75       0.625      0.6875     0.65625\n",
      " 0.671875   0.6640625  0.66796875 0.66601562 0.66699219 0.66650391\n",
      " 0.66674805 0.66662598 0.66668701 0.66665649 0.66667175 0.66666412\n",
      " 0.66666794 0.66666603 0.66666698 0.66666651 0.66666675 0.66666663\n",
      " 0.66666669]\n"
     ]
    }
   ],
   "source": [
    "n = np.arange(1, 26)\n",
    "prob = np.zeros_like(n, dtype=float)\n",
    "prob[0] = 1\n",
    "prob[1] = 0.5\n",
    "for i in range (2, 25):\n",
    "    prob[i] = 0.5*(prob[i-1]) + 0.5*(prob[i-2])\n",
    "print(prob)"
   ]
  },
  {
   "cell_type": "code",
   "execution_count": 5,
   "id": "726c34fa-1988-4ec2-a647-733fd2ea5184",
   "metadata": {},
   "outputs": [
    {
     "name": "stdout",
     "output_type": "stream",
     "text": [
      "-0.500000000000000\n",
      "1.00000000000000\n"
     ]
    }
   ],
   "source": [
    "from sympy.abc import m\n",
    "M = sp.solve(m**2-(1/2)*m-1/2, m)\n",
    "print(M[0])\n",
    "print(M[1])"
   ]
  },
  {
   "cell_type": "code",
   "execution_count": 7,
   "id": "b478d356-0dc9-494f-ae0b-171fbc84ba17",
   "metadata": {},
   "outputs": [
    {
     "data": {
      "text/latex": [
       "$\\displaystyle \\left( -0.666666666666667, \\  0.666666666666667\\right)$"
      ],
      "text/plain": [
       "(-0.666666666666667, 0.666666666666667)"
      ]
     },
     "execution_count": 7,
     "metadata": {},
     "output_type": "execute_result"
    }
   ],
   "source": [
    "x, y = sp.symbols(\"x,y\")\n",
    "A = sp.Matrix([[M[0],M[1]], [(M[0])**2, (M[1])**2]])\n",
    "b = sp.Matrix([1,1/2])\n",
    "C, = sp.linsolve((A, b), x, y)\n",
    "C"
   ]
  },
  {
   "cell_type": "code",
   "execution_count": 14,
   "id": "701a83e8-6dca-4e24-9f53-cc8ffd8b8d28",
   "metadata": {},
   "outputs": [
    {
     "data": {
      "text/plain": [
       "[1, -1/3 - sqrt(2)*I/3, -1/3 + sqrt(2)*I/3]"
      ]
     },
     "execution_count": 14,
     "metadata": {},
     "output_type": "execute_result"
    }
   ],
   "source": [
    "from sympy.abc import m\n",
    "from sympy import Rational\n",
    "M = sp.solve(-m**3+(Rational(1,3))*m**2+(Rational(1,3))*m+Rational(1,3), m)\n",
    "M"
   ]
  },
  {
   "cell_type": "code",
   "execution_count": 16,
   "id": "01efbb78-bf8d-489d-9d75-a164418d5caa",
   "metadata": {},
   "outputs": [
    {
     "data": {
      "text/latex": [
       "$\\displaystyle \\left( \\frac{1}{2}, \\  - \\frac{1}{4} + \\frac{\\sqrt{2} i}{4}, \\  - \\frac{1}{4} - \\frac{\\sqrt{2} i}{4}\\right)$"
      ],
      "text/plain": [
       "(1/2, -1/4 + sqrt(2)*I/4, -1/4 - sqrt(2)*I/4)"
      ]
     },
     "execution_count": 16,
     "metadata": {},
     "output_type": "execute_result"
    }
   ],
   "source": [
    "from sympy import Rational\n",
    "x, y, z = sp.symbols(\"x,y, z\")\n",
    "A = sp.Matrix([[M[0],M[1],M[2]], [(M[0])**2, (M[1])**2,(M[2])**2],[(M[0])**3,(M[1])**3,(M[2])**3]])\n",
    "b = sp.Matrix([1,Rational(1,3),Rational(4,9)])\n",
    "C, = sp.linsolve((A, b), x, y, z)\n",
    "C"
   ]
  },
  {
   "cell_type": "code",
   "execution_count": null,
   "id": "b99da86c-1b06-4795-a93e-977a796c030e",
   "metadata": {},
   "outputs": [],
   "source": []
  },
  {
   "cell_type": "code",
   "execution_count": null,
   "id": "e1409a20-2027-4ae5-9634-9c4e2848ed13",
   "metadata": {},
   "outputs": [],
   "source": []
  }
 ],
 "metadata": {
  "kernelspec": {
   "display_name": "Python 3 (ipykernel)",
   "language": "python",
   "name": "python3"
  },
  "language_info": {
   "codemirror_mode": {
    "name": "ipython",
    "version": 3
   },
   "file_extension": ".py",
   "mimetype": "text/x-python",
   "name": "python",
   "nbconvert_exporter": "python",
   "pygments_lexer": "ipython3",
   "version": "3.9.1"
  }
 },
 "nbformat": 4,
 "nbformat_minor": 5
}
