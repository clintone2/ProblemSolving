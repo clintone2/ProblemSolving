{
 "cells": [
  {
   "cell_type": "code",
   "execution_count": 1,
   "id": "3ac39c91-e234-47e5-b356-361cb5efd12f",
   "metadata": {},
   "outputs": [],
   "source": [
    "import numpy as np\n",
    "import matplotlib.pyplot as plt\n",
    "import scipy.linalg as LA"
   ]
  },
  {
   "cell_type": "code",
   "execution_count": 2,
   "id": "4b281fdf-8c88-4927-b6a2-f9ad7f6a349b",
   "metadata": {},
   "outputs": [
    {
     "data": {
      "text/plain": [
       "0.0"
      ]
     },
     "execution_count": 2,
     "metadata": {},
     "output_type": "execute_result"
    }
   ],
   "source": [
    "A = np.array([[0,0,0],[1,1,1],[1,0,1]])\n",
    "LA.det(A)"
   ]
  },
  {
   "cell_type": "code",
   "execution_count": 23,
   "id": "5d0e630f-e681-44d6-a424-4b119b0c6371",
   "metadata": {},
   "outputs": [
    {
     "name": "stdout",
     "output_type": "stream",
     "text": [
      "[1.0, False, -1.0, False, 0.0, False, 0.0, False, 2.0, False, 0.0, False, 1.0, False, 2.0, False, -1.0, False, 0.0, False, -1.0, False, 1.0, False, 0.0, False, -2.0, False, 1.0, False, 0.0, False, 0.0, False, -1.0, False, 3.0, False, 0.0, False, 0.0, False, 0.0, False, 1.0, False, -1.0, False, 0.0, False, 0.0, False, 1.0, False, 0.0, False, 0.0, False, 2.0, False, 0.0, False, 0.0, False, -1.0, False, 0.0, False, -1.0, False, -2.0, False, 0.0, False, -2.0, False, 0.0, False, 0.0, False, 0.0, False, 0.0, False, 0.0, False, 1.0, False, 0.0, False, 0.0, False, 0.0, False, 0.0, False, 0.0, False, 0.0, False, 0.0, False, 0.0, False, 1.0, False, 0.0, False, 0.0, False, 1.0, False, 1.0, False, 0.0, False, 0.0, False, 0.0, False, -2.0, False, 0.0, False, -2.0, False, 2.0, False, 1.0, False, 2.0, False, 0.0, False, 0.0, False, -3.0, False, 0.0, False, 0.0, False, 0.0, False, 0.0, False, 1.0, False, -1.0, False, -3.0, False, 1.0, False, 0.0, False, 0.0, False, 0.0, False, 1.0, False, -1.0, False, 3.0, False, 0.0, False, 2.0, False, -1.0, False, 0.0, False, 0.0, False, 1.0, False, 0.0, False, -1.0, False, 0.0, False, 0.0, False, -2.0, False, 0.0, False, 1.0, False, 0.0, False, 1.0, False, 2.0, False, 0.0, False]\n"
     ]
    }
   ],
   "source": [
    "rng = np.random.default_rng()\n",
    "n = 5 \n",
    "samples = 100\n",
    "Det = []\n",
    "\n",
    "#want to generate a matrix with equal number of 1s and 0s\n",
    "def matrix(n):\n",
    "    A = np.zeros((5,5))\n",
    "    if n%2 == 0:\n",
    "        ones = (n**2)/2\n",
    "        zeros = (n**2)/2\n",
    "    else:\n",
    "        ones = (n**2)//2 + 1\n",
    "        zeros = (n**2)//2\n",
    "    for i in range(0, ones): \n",
    "        index = (rng.integers(0, n), rng.integers(0, n))\n",
    "        while A[index] == 1:\n",
    "            index = (rng.integers(0, n), rng.integers(0, n))\n",
    "        A[index] = 1\n",
    "\n",
    "    return(A)\n",
    "\n",
    "def symmetry(A, n):\n",
    "    symmetric = True\n",
    "    vsymmetric = True\n",
    "    hsymmetric = True\n",
    "    for i in range(0, n-1):\n",
    "        for j in range(0, n-1):\n",
    "            if A[i,j] != A[i, n-j-1]:\n",
    "                vsymmetric = False\n",
    "            if A[i,j] != A[n-i-1, j]:\n",
    "                hsymmetric = False\n",
    "            if vsymmetric == False and hsymmetric == False:\n",
    "                symmetric = False\n",
    "                return symmetric\n",
    "    return symmetric\n",
    "\n",
    "for i in np.arange(samples):\n",
    "    A = matrix(n)\n",
    "    symmetric = symmetry(A, n)\n",
    "    detA = LA.det(A)\n",
    "    Det.append(detA)\n",
    "    Det.append(symmetric)\n",
    "\n",
    "print(Det)"
   ]
  },
  {
   "cell_type": "code",
   "execution_count": 24,
   "id": "3398475e-4e08-496c-906a-a8c499894e08",
   "metadata": {},
   "outputs": [
    {
     "name": "stdout",
     "output_type": "stream",
     "text": [
      "[0.0, True, 0.0, True, 0.0, True, 0.0, True, 0.0, True, 0.0, True, 0.0, True, 0.0, True, 0.0, True, 0.0, True, 0.0, True, 0.0, True, 0.0, True, 0.0, True, 0.0, True, 0.0, True, 0.0, True, 0.0, True, 0.0, True, 0.0, True, 0.0, True, 0.0, True, 0.0, True, 0.0, True, 0.0, True, 0.0, True, 0.0, True, 0.0, True, 0.0, True, 0.0, True, 0.0, True, 0.0, True, 0.0, True, 0.0, True, 0.0, True, 0.0, True, 0.0, True, 0.0, True, 0.0, True, 0.0, True, 0.0, True, 0.0, True, 0.0, True, 0.0, True, 0.0, True, 0.0, True, 0.0, True, 0.0, True, 0.0, True, 0.0, True, 0.0, True, 0.0, True, 0.0, True, 0.0, True, 0.0, True, 0.0, True, 0.0, True, 0.0, True, 0.0, True, 0.0, True, 0.0, True, 0.0, True, 0.0, True, 0.0, True, 0.0, True, 0.0, True, 0.0, True, 0.0, True, 0.0, True, 0.0, True, 0.0, True, 0.0, True, 0.0, True, 0.0, True, 0.0, True, 0.0, True, 0.0, True, 0.0, True, 0.0, True, 0.0, True, 0.0, True, 0.0, True, 0.0, True, 0.0, True, 0.0, True, 0.0, True, 0.0, True, 0.0, True, 0.0, True, 0.0, True, 0.0, True, 0.0, True, 0.0, True, 0.0, True, 0.0, True, 0.0, True, 0.0, True, 0.0, True, 0.0, True, 0.0, True, 0.0, True, 0.0, True, 0.0, True, 0.0, True, 0.0, True, 0.0, True, 0.0, True, 0.0, True, 0.0, True, 0.0, True, 0.0, True, 0.0, True, 0.0, True, 0.0, True, 0.0, True, 0.0, True, 0.0, True, 0.0, True, 0.0, True, 0.0, True, 0.0, True, 0.0, True, 0.0, True, 0.0, True, 0.0, True, 0.0, True, 0.0, True, 0.0, True, 0.0, True, 0.0, True, 0.0, True, 0.0, True, 0.0, True, 0.0, True, 0.0, True, 0.0, True, 0.0, True, 0.0, True, 0.0, True, 0.0, True, 0.0, True, 0.0, True, 0.0, True, 0.0, True, 0.0, True, 0.0, True, 0.0, True, 0.0, True, 0.0, True, 0.0, True, 0.0, True, 0.0, True, 0.0, True, 0.0, True, 0.0, True, 0.0, True, 0.0, True, 0.0, True, 0.0, True, 0.0, True, 0.0, True, 0.0, True, 0.0, True, 0.0, True, 0.0, True, 0.0, True, 0.0, True, 0.0, True, 0.0, True, 0.0, True, 0.0, True, 0.0, True, 0.0, True, 0.0, True, 0.0, True, 0.0, True, 0.0, True, 0.0, True, 0.0, True, 0.0, True, 0.0, True, 0.0, True, 0.0, True, 0.0, True, 0.0, True, 0.0, True, 0.0, True, 0.0, True, 0.0, True, 0.0, True, 0.0, True, 0.0, True, 0.0, True, 0.0, True, 0.0, True, 0.0, True, 0.0, True, 0.0, True, 0.0, True, 0.0, True, 0.0, True, 0.0, True, 0.0, True, 0.0, True, 0.0, True, 0.0, True, 0.0, True, 0.0, True, 0.0, True, 0.0, True, 0.0, True, 0.0, True, 0.0, True, 0.0, True, 0.0, True, 0.0, True, 0.0, True, 0.0, True, 0.0, True, 0.0, True, 0.0, True, 0.0, True, 0.0, True, 0.0, True, 0.0, True, 0.0, True, 0.0, True, 0.0, True, 0.0, True, 0.0, True, 0.0, True, 0.0, True, 0.0, True, 0.0, True, 0.0, True, 0.0, True, 0.0, True, 0.0, True, 0.0, True, 0.0, True, 0.0, True, 0.0, True, 0.0, True, 0.0, True, 0.0, True, 0.0, True, 0.0, True, 0.0, True, 0.0, True, 0.0, True, 0.0, True, 0.0, True, 0.0, True, 0.0, True, 0.0, True, 0.0, True, 0.0, True, 0.0, True, 0.0, True, 0.0, True, 0.0, True, 0.0, True, 0.0, True, 0.0, True, 0.0, True, 0.0, True, 0.0, True, 0.0, True, 0.0, True, 0.0, True, 0.0, True, 0.0, True, 0.0, True, 0.0, True, 0.0, True, 0.0, True, 0.0, True, 0.0, True, 0.0, True, 0.0, True, 0.0, True, 0.0, True, 0.0, True, 0.0, True, 0.0, True, 0.0, True, 0.0, True, 0.0, True, 0.0, True, 0.0, True, 0.0, True, 0.0, True, 0.0, True, 0.0, True, 0.0, True, 0.0, True, 0.0, True, 0.0, True, 0.0, True, 0.0, True, 0.0, True, 0.0, True, 0.0, True, 0.0, True, 0.0, True, 0.0, True, 0.0, True, 0.0, True, 0.0, True, 0.0, True, 0.0, True, 0.0, True, 0.0, True, 0.0, True, 0.0, True, 0.0, True, 0.0, True, 0.0, True, 0.0, True, 0.0, True, 0.0, True, 0.0, True, 0.0, True, 0.0, True, 0.0, True, 0.0, True, 0.0, True, 0.0, True, 0.0, True, 0.0, True, 0.0, True, 0.0, True, 0.0, True, 0.0, True, 0.0, True, 0.0, True, 0.0, True, 0.0, True, 0.0, True, 0.0, True, 0.0, True, 0.0, True, 0.0, True, 0.0, True, 0.0, True, 0.0, True, 0.0, True, 0.0, True, 0.0, True, 0.0, True, 0.0, True, 0.0, True, 0.0, True, 0.0, True, 0.0, True, 0.0, True, 0.0, True, 0.0, True, 0.0, True, 0.0, True, 0.0, True, 0.0, True, 0.0, True, 0.0, True, 0.0, True, 0.0, True, 0.0, True, 0.0, True, 0.0, True, 0.0, True, 0.0, True, 0.0, True, 0.0, True, 0.0, True, 0.0, True, 0.0, True, 0.0, True, 0.0, True, 0.0, True, 0.0, True, 0.0, True, 0.0, True, 0.0, True, 0.0, True, 0.0, True, 0.0, True, 0.0, True, 0.0, True, 0.0, True, 0.0, True, 0.0, True, 0.0, True, 0.0, True, 0.0, True, 0.0, True, 0.0, True, 0.0, True, 0.0, True, 0.0, True, 0.0, True, 0.0, True, 0.0, True, 0.0, True, 0.0, True, 0.0, True, 0.0, True, 0.0, True, 0.0, True, 0.0, True, 0.0, True, 0.0, True, 0.0, True, 0.0, True, 0.0, True, 0.0, True, 0.0, True, 0.0, True, 0.0, True, 0.0, True, 0.0, True, 0.0, True, 0.0, True, 0.0, True, 0.0, True, 0.0, True, 0.0, True, 0.0, True, 0.0, True, 0.0, True, 0.0, True, 0.0, True, 0.0, True, 0.0, True, 0.0, True, 0.0, True, 0.0, True, 0.0, True, 0.0, True, 0.0, True, 0.0, True, 0.0, True, 0.0, True, 0.0, True, 0.0, True, 0.0, True, 0.0, True, 0.0, True, 0.0, True, 0.0, True, 0.0, True, 0.0, True, 0.0, True, 0.0, True, 0.0, True, 0.0, True, 0.0, True, 0.0, True, 0.0, True, 0.0, True, 0.0, True, 0.0, True, 0.0, True, 0.0, True, 0.0, True, 0.0, True, 0.0, True, 0.0, True, 0.0, True, 0.0, True, 0.0, True, 0.0, True, 0.0, True, 0.0, True, 0.0, True, 0.0, True, 0.0, True, 0.0, True, 0.0, True, 0.0, True, 0.0, True, 0.0, True, 0.0, True, 0.0, True, 0.0, True, 0.0, True, 0.0, True, 0.0, True, 0.0, True, 0.0, True, 0.0, True, 0.0, True, 0.0, True, 0.0, True, 0.0, True, 0.0, True, 0.0, True, 0.0, True, 0.0, True, 0.0, True, 0.0, True, 0.0, True, 0.0, True, 0.0, True, 0.0, True, 0.0, True, 0.0, True, 0.0, True, 0.0, True, 0.0, True, 0.0, True, 0.0, True, 0.0, True, 0.0, True, 0.0, True, 0.0, True, 0.0, True, 0.0, True, 0.0, True, 0.0, True, 0.0, True, 0.0, True, 0.0, True, 0.0, True, 0.0, True, 0.0, True, 0.0, True, 0.0, True, 0.0, True, 0.0, True, 0.0, True, 0.0, True, 0.0, True, 0.0, True, 0.0, True, 0.0, True, 0.0, True, 0.0, True, 0.0, True, 0.0, True, 0.0, True, 0.0, True, 0.0, True, 0.0, True, 0.0, True, 0.0, True, 0.0, True, 0.0, True, 0.0, True, 0.0, True, 0.0, True, 0.0, True, 0.0, True, 0.0, True, 0.0, True, 0.0, True, 0.0, True, 0.0, True, 0.0, True, 0.0, True, 0.0, True, 0.0, True, 0.0, True, 0.0, True, 0.0, True, 0.0, True, 0.0, True, 0.0, True, 0.0, True, 0.0, True, 0.0, True, 0.0, True, 0.0, True, 0.0, True, 0.0, True, 0.0, True, 0.0, True, 0.0, True, 0.0, True, 0.0, True, 0.0, True, 0.0, True, 0.0, True, 0.0, True, 0.0, True, 0.0, True, 0.0, True, 0.0, True, 0.0, True, 0.0, True, 0.0, True, 0.0, True, 0.0, True, 0.0, True, 0.0, True, 0.0, True, 0.0, True, 0.0, True, 0.0, True, 0.0, True, 0.0, True, 0.0, True, 0.0, True, 0.0, True, 0.0, True, 0.0, True, 0.0, True, 0.0, True, 0.0, True, 0.0, True, 0.0, True, 0.0, True, 0.0, True, 0.0, True, 0.0, True, 0.0, True, 0.0, True, 0.0, True, 0.0, True, 0.0, True, 0.0, True, 0.0, True, 0.0, True, 0.0, True, 0.0, True]\n"
     ]
    }
   ],
   "source": [
    "rng = np.random.default_rng()\n",
    "n = 5 \n",
    "samples = 1e5\n",
    "Det = []\n",
    "\n",
    "#want to generate a matrix with equal number of 1s and 0s\n",
    "def matrix(n):\n",
    "    A = np.zeros((5,5))\n",
    "    if n%2 == 0:\n",
    "        ones = (n**2)/2\n",
    "        zeros = (n**2)/2\n",
    "    else:\n",
    "        ones = (n**2)//2 + 1\n",
    "        zeros = (n**2)//2\n",
    "    for i in range(0, ones): \n",
    "        index = (rng.integers(0, n), rng.integers(0, n))\n",
    "        while A[index] == 1:\n",
    "            index = (rng.integers(0, n), rng.integers(0, n))\n",
    "        A[index] = 1\n",
    "\n",
    "    return(A)\n",
    "\n",
    "def symmetry(A, n):\n",
    "    symmetric = True\n",
    "    vsymmetric = True\n",
    "    hsymmetric = True\n",
    "    for i in range(0, n-1):\n",
    "        for j in range(0, n-1):\n",
    "            if A[i,j] != A[i, n-j-1]:\n",
    "                vsymmetric = False\n",
    "            if A[i,j] != A[n-i-1, j]:\n",
    "                hsymmetric = False\n",
    "            if vsymmetric == False and hsymmetric == False:\n",
    "                symmetric = False\n",
    "                return symmetric\n",
    "    return symmetric\n",
    "\n",
    "for i in np.arange(samples):\n",
    "    A = matrix(n)\n",
    "    symmetric = symmetry(A, n)\n",
    "    if symmetric == True:\n",
    "        detA = LA.det(A)\n",
    "        Det.append(detA)\n",
    "        Det.append(symmetric)\n",
    "\n",
    "print(Det)"
   ]
  },
  {
   "cell_type": "code",
   "execution_count": null,
   "id": "af9f8995-a6ed-4ed5-a578-41dc4f1be66e",
   "metadata": {},
   "outputs": [],
   "source": []
  }
 ],
 "metadata": {
  "kernelspec": {
   "display_name": "Python 3 (ipykernel)",
   "language": "python",
   "name": "python3"
  },
  "language_info": {
   "codemirror_mode": {
    "name": "ipython",
    "version": 3
   },
   "file_extension": ".py",
   "mimetype": "text/x-python",
   "name": "python",
   "nbconvert_exporter": "python",
   "pygments_lexer": "ipython3",
   "version": "3.9.1"
  }
 },
 "nbformat": 4,
 "nbformat_minor": 5
}
