{
 "cells": [
  {
   "cell_type": "code",
   "execution_count": 65,
   "id": "44584d17-c9de-4b30-93db-c0408cfc559d",
   "metadata": {},
   "outputs": [],
   "source": [
    "import numpy as np\n",
    "import matplotlib.pyplot as plt\n",
    "%matplotlib qt"
   ]
  },
  {
   "cell_type": "code",
   "execution_count": 64,
   "id": "83dae082-099a-48f8-ad5e-383c46b959ee",
   "metadata": {},
   "outputs": [
    {
     "data": {
      "text/plain": [
       "<function matplotlib.pyplot.show(*, block=None)>"
      ]
     },
     "execution_count": 64,
     "metadata": {},
     "output_type": "execute_result"
    }
   ],
   "source": [
    "#Right = 0%4, Up = 1%4, Left = 2%4, Down = 3%4\n",
    "def Translate(i, Path, Direction):\n",
    "    nextStep = Path[i-1][:]\n",
    "    if Direction == 0:\n",
    "        nextStep[0] = nextStep[0] + 1\n",
    "    elif Direction == 1:\n",
    "        nextStep[1] = nextStep[1] + 1\n",
    "    elif Direction == 2:\n",
    "        nextStep[0] = nextStep[0] - 1\n",
    "    else:\n",
    "        nextStep[1] = nextStep[1] - 1\n",
    "    Path.append(nextStep)\n",
    "\n",
    "k = 16\n",
    "Max = k**2\n",
    "Direction = 0\n",
    "NoOfArrows = 1\n",
    "j = 0\n",
    "Turns = 0\n",
    "Value = np.arange(1, int(Max)+1)\n",
    "Path = [[0,0]]\n",
    "\n",
    "for i in Value:\n",
    "    Translate(i, Path, Direction)\n",
    "    j = j + 1\n",
    "    if j == NoOfArrows:\n",
    "        Direction = (Direction + 1)%4\n",
    "        Turns = Turns + 1\n",
    "        j = 0\n",
    "    if Turns == 2:\n",
    "        NoOfArrows = NoOfArrows + 1\n",
    "        Turns = 0\n",
    "xPath = [x[0] for x in Path]\n",
    "yPath = [x[1] for x in Path]\n",
    "\n",
    "P = plt.plot(xPath, yPath, '-bo')\n",
    "for i in Value:\n",
    "    plt.text(xPath[i-1] + 0.05, yPath[i-1] + 0.05 , i , fontsize=10)\n",
    "plt.grid('on')\n",
    "plt.show"
   ]
  },
  {
   "cell_type": "code",
   "execution_count": 68,
   "id": "ac51a8e4-2e42-4583-98df-0fd4937210dd",
   "metadata": {},
   "outputs": [
    {
     "data": {
      "text/plain": [
       "<function matplotlib.pyplot.show(*, block=None)>"
      ]
     },
     "execution_count": 68,
     "metadata": {},
     "output_type": "execute_result"
    }
   ],
   "source": [
    "def Translate(i, Path, Direction):\n",
    "    nextStep = Path[i-1][:]\n",
    "    if Direction == 0:\n",
    "        nextStep[0] = nextStep[0] + 2\n",
    "    elif Direction == 1:\n",
    "        nextStep[1] = nextStep[1] + 2\n",
    "    elif Direction == 2:\n",
    "        nextStep[0] = nextStep[0] - 1\n",
    "    else:\n",
    "        nextStep[1] = nextStep[1] - 1\n",
    "    Path.append(nextStep)\n",
    "\n",
    "k = 8\n",
    "Max = k**2\n",
    "Direction = 0\n",
    "NoOfArrows = 1\n",
    "j = 0\n",
    "Turns = 0\n",
    "Value = np.arange(1, int(Max)+1)\n",
    "Path = [[0,0]]\n",
    "\n",
    "for i in Value:\n",
    "    Translate(i, Path, Direction)\n",
    "    j = j + 1\n",
    "    if j == NoOfArrows:\n",
    "        Direction = (Direction + 1)%4\n",
    "        Turns = Turns + 1\n",
    "        j = 0\n",
    "    if Turns == 2:\n",
    "        NoOfArrows = NoOfArrows + 1\n",
    "        Turns = 0\n",
    "xPath = [x[0] for x in Path]\n",
    "yPath = [x[1] for x in Path]\n",
    "\n",
    "P = plt.plot(xPath, yPath, '-bo')\n",
    "for i in Value:\n",
    "    plt.text(xPath[i-1] + 0.05, yPath[i-1] + 0.05 , i , fontsize=10)\n",
    "plt.grid('on')\n",
    "plt.show"
   ]
  },
  {
   "cell_type": "code",
   "execution_count": null,
   "id": "22b0722d-d428-4385-8759-f95a5b72c616",
   "metadata": {},
   "outputs": [],
   "source": []
  }
 ],
 "metadata": {
  "kernelspec": {
   "display_name": "Python 3 (ipykernel)",
   "language": "python",
   "name": "python3"
  },
  "language_info": {
   "codemirror_mode": {
    "name": "ipython",
    "version": 3
   },
   "file_extension": ".py",
   "mimetype": "text/x-python",
   "name": "python",
   "nbconvert_exporter": "python",
   "pygments_lexer": "ipython3",
   "version": "3.9.1"
  }
 },
 "nbformat": 4,
 "nbformat_minor": 5
}
